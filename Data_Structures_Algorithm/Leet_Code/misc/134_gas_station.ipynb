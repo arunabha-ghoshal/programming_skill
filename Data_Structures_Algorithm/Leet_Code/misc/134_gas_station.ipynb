{
 "cells": [
  {
   "cell_type": "code",
   "execution_count": 1,
   "metadata": {},
   "outputs": [],
   "source": [
    "from typing import *\n",
    "\n",
    "class Solution:\n",
    "    def canCompleteCircuit(self, gas: List[int], cost: List[int]) -> int:\n",
    "        curr_tank = 0\n",
    "        iter = len(gas)\n",
    "\n",
    "        if sum(gas) != sum(cost):\n",
    "            return -1\n",
    "       \n",
    "        for i in range(iter):\n",
    "            curr_tank = gas[i] - cost[i] + gas[i+1]\n",
    "            if curr_tank>0:\n",
    "                \n",
    "        "
   ]
  },
  {
   "cell_type": "code",
   "execution_count": null,
   "metadata": {},
   "outputs": [],
   "source": [
    "sol = Solution()\n",
    "sol.canCompleteCircuit(gas = [1,2,3,4,5], cost = [3,4,5,1,2])"
   ]
  }
 ],
 "metadata": {
  "kernelspec": {
   "display_name": "Python 3.10.2 64-bit",
   "language": "python",
   "name": "python3"
  },
  "language_info": {
   "codemirror_mode": {
    "name": "ipython",
    "version": 3
   },
   "file_extension": ".py",
   "mimetype": "text/x-python",
   "name": "python",
   "nbconvert_exporter": "python",
   "pygments_lexer": "ipython3",
   "version": "3.10.2"
  },
  "orig_nbformat": 4,
  "vscode": {
   "interpreter": {
    "hash": "b6fecb9821137fb1eeea2161f49225dfc2219e02bf5341a9f2c882710ff7fd7e"
   }
  }
 },
 "nbformat": 4,
 "nbformat_minor": 2
}
