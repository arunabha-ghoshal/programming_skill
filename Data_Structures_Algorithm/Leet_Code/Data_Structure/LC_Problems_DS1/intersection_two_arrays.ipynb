{
 "cells": [
  {
   "cell_type": "code",
   "execution_count": 4,
   "metadata": {},
   "outputs": [],
   "source": [
    "from typing import *\n",
    "\n",
    "class Solution:\n",
    "    def intersect(self, nums1: List[int], nums2: List[int]) -> List[int]:\n",
    "\n",
    "        # if len(nums1) < len(nums2):\n",
    "        #     return self.intersect(nums2,nums1)\n",
    "        if len(nums1) < len(nums2):\n",
    "            temp = nums2\n",
    "            num2 = nums1\n",
    "            nums1 = nums2\n",
    "            \n",
    "        res = []\n",
    "        d = {}\n",
    "        for i in nums2:\n",
    "            d[i] = d.get(i,0) + 1\n",
    "\n",
    "        #print(d)\n",
    "\n",
    "        for j in nums1:\n",
    "            #print(nums1[j])\n",
    "            if j in d:\n",
    "                if d[j] > 0:\n",
    "                    res.append(j)\n",
    "                    d[j] -= 1\n",
    "        \n",
    "        \n",
    "        return res"
   ]
  },
  {
   "cell_type": "code",
   "execution_count": 5,
   "metadata": {},
   "outputs": [
    {
     "data": {
      "text/plain": [
       "[2, 2]"
      ]
     },
     "execution_count": 5,
     "metadata": {},
     "output_type": "execute_result"
    }
   ],
   "source": [
    "sol = Solution()\n",
    "sol.intersect([1,2,2,1],[2,2])"
   ]
  },
  {
   "cell_type": "code",
   "execution_count": null,
   "metadata": {},
   "outputs": [],
   "source": []
  }
 ],
 "metadata": {
  "interpreter": {
   "hash": "bfe38c384d2d566aee429505dceaca329c4e36d9ab992af7abe3e93f0f317d7a"
  },
  "kernelspec": {
   "display_name": "Python 3.10.2 64-bit",
   "language": "python",
   "name": "python3"
  },
  "language_info": {
   "codemirror_mode": {
    "name": "ipython",
    "version": 3
   },
   "file_extension": ".py",
   "mimetype": "text/x-python",
   "name": "python",
   "nbconvert_exporter": "python",
   "pygments_lexer": "ipython3",
   "version": "3.10.2"
  },
  "orig_nbformat": 4
 },
 "nbformat": 4,
 "nbformat_minor": 2
}
