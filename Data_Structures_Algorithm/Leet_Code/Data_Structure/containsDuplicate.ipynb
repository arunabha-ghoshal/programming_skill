{
 "cells": [
  {
   "cell_type": "code",
   "execution_count": 19,
   "metadata": {},
   "outputs": [
    {
     "data": {
      "text/plain": [
       "'if len(nums) != len(list(set(nums))):\\n    return True\\nelse:\\n    return False'"
      ]
     },
     "execution_count": 19,
     "metadata": {},
     "output_type": "execute_result"
    }
   ],
   "source": [
    "def containsDuplicate(nums):\n",
    "    seen = {}\n",
    "    dup = False\n",
    "    for i in nums:\n",
    "        if i in seen:\n",
    "            dup = True\n",
    "            break\n",
    "        else:\n",
    "            if i in seen:\n",
    "                seen[i] += 1\n",
    "            else:\n",
    "                seen[i] = 1\n",
    "    return dup\n",
    "    \n",
    "'''if len(nums) != len(list(set(nums))):\n",
    "    return True\n",
    "else:\n",
    "    return False'''"
   ]
  },
  {
   "cell_type": "code",
   "execution_count": 20,
   "metadata": {},
   "outputs": [
    {
     "data": {
      "text/plain": [
       "True"
      ]
     },
     "execution_count": 20,
     "metadata": {},
     "output_type": "execute_result"
    }
   ],
   "source": [
    "containsDuplicate(nums = [1,1,1,3,3,4,3,2,4,2])"
   ]
  }
 ],
 "metadata": {
  "interpreter": {
   "hash": "b602f0e4b1185d2497196146f90151fa108216435f08940bcc07c19b845ae272"
  },
  "kernelspec": {
   "display_name": "Python 3.8.8 ('base')",
   "language": "python",
   "name": "python3"
  },
  "language_info": {
   "codemirror_mode": {
    "name": "ipython",
    "version": 3
   },
   "file_extension": ".py",
   "mimetype": "text/x-python",
   "name": "python",
   "nbconvert_exporter": "python",
   "pygments_lexer": "ipython3",
   "version": "3.8.8"
  },
  "orig_nbformat": 4
 },
 "nbformat": 4,
 "nbformat_minor": 2
}
