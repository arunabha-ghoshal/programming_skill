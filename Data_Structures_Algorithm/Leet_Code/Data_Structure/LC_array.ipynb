{
 "cells": [
  {
   "cell_type": "markdown",
   "metadata": {},
   "source": [
    "Given a binary array nums, return the maximum number of consecutive 1's in the array."
   ]
  },
  {
   "cell_type": "code",
   "execution_count": null,
   "metadata": {},
   "outputs": [],
   "source": [
    "def findMaxConsecutiveOnes(nums):\n",
    "    count_flag = 0\n",
    "    max_count = 0\n",
    "    for num in nums:\n",
    "        if num == 1:\n",
    "            count_flag += 1\n",
    "        else:\n",
    "            max_count = max(max_count, count_flag)\n",
    "            count_flag = 0\n",
    "    return max(max_count, count_flag)\n",
    "\n",
    "print(findMaxConsecutiveOnes([1,1,0,0,1,1,1,0]))\n"
   ]
  },
  {
   "cell_type": "code",
   "execution_count": 13,
   "metadata": {},
   "outputs": [
    {
     "name": "stdout",
     "output_type": "stream",
     "text": [
      "3\n"
     ]
    }
   ],
   "source": [
    "def findMaxConsecutiveOnes(nums):\n",
    "    return max(map(len,''.join(map(str,nums)).split('0')))\n",
    "\n",
    "print(findMaxConsecutiveOnes([1,1,0,0,1,1,1,0]))"
   ]
  },
  {
   "cell_type": "code",
   "execution_count": 16,
   "metadata": {},
   "outputs": [
    {
     "name": "stdout",
     "output_type": "stream",
     "text": [
      "3\n"
     ]
    }
   ],
   "source": [
    "def findMaxConsecutiveOnes(nums):\n",
    "    count_flag = 0\n",
    "    max_count = 0\n",
    "    for num in nums:\n",
    "        if num == 1:\n",
    "            count_flag += 1\n",
    "            if count_flag > max_count:\n",
    "                max_count = count_flag\n",
    "        else:\n",
    "            count_flag = 0\n",
    "    return max_count\n",
    "\n",
    "print(findMaxConsecutiveOnes([1,1,0,0,1,1,1,0]))\n"
   ]
  },
  {
   "cell_type": "markdown",
   "metadata": {},
   "source": [
    "Given an array nums of integers, return how many of them contain an even number of digits."
   ]
  },
  {
   "cell_type": "code",
   "execution_count": null,
   "metadata": {},
   "outputs": [],
   "source": [
    "class Solution:\n",
    "    def findNumbers(self, nums: List[int]) -> int:\n",
    "        count = 0\n",
    "        for num in nums:\n",
    "            if len(str(num))%2 == 0:\n",
    "                count += 1\n",
    "        return count"
   ]
  },
  {
   "cell_type": "markdown",
   "metadata": {},
   "source": [
    "Given an integer array nums sorted in non-decreasing order, return an array of the squares of each number sorted in non-decreasing order."
   ]
  },
  {
   "cell_type": "code",
   "execution_count": 3,
   "metadata": {},
   "outputs": [
    {
     "name": "stdout",
     "output_type": "stream",
     "text": [
      "[4, 16, 25, 49, 100]\n"
     ]
    }
   ],
   "source": [
    "def sortedSquares(nums):\n",
    "    for i in range(len(nums)):\n",
    "        nums[i] = nums[i]**2\n",
    "    return sorted(nums)\n",
    "print(sortedSquares([2,-4,5,7,10]))"
   ]
  },
  {
   "cell_type": "code",
   "execution_count": 4,
   "metadata": {},
   "outputs": [
    {
     "name": "stdout",
     "output_type": "stream",
     "text": [
      "[4, 16, 25, 49, 100]\n"
     ]
    }
   ],
   "source": [
    "def sortedSquares(nums):\n",
    "    return sorted(num**2 for num in nums)\n",
    "print(sortedSquares([2,-4,5,7,10]))"
   ]
  },
  {
   "cell_type": "markdown",
   "metadata": {},
   "source": [
    "Given a fixed-length integer array arr, duplicate each occurrence of zero, shifting the remaining elements to the right."
   ]
  },
  {
   "cell_type": "code",
   "execution_count": 3,
   "metadata": {},
   "outputs": [
    {
     "name": "stdout",
     "output_type": "stream",
     "text": [
      "0\n",
      "1\n",
      "2\n",
      "3\n",
      "5\n",
      "6\n",
      "8\n",
      "[1, 2, 5, 0, 0, 8, 0, 0, 0, 0, 1, 2]\n"
     ]
    }
   ],
   "source": [
    "def duplicateZeros(arr):\n",
    "    i = 0\n",
    "    org_len = len(arr)\n",
    "    while i < len(arr) and i <= org_len:\n",
    "        print(i)\n",
    "        if arr[i] == 0:\n",
    "            arr.insert(i,0)\n",
    "            i += 2\n",
    "        else:\n",
    "            i += 1\n",
    "            \n",
    "    return arr\n",
    "print(duplicateZeros([1,2,5,0,8,0,0,1,2]))"
   ]
  },
  {
   "cell_type": "markdown",
   "metadata": {},
   "source": [
    "Merge sorted array"
   ]
  },
  {
   "cell_type": "code",
   "execution_count": null,
   "metadata": {},
   "outputs": [],
   "source": []
  }
 ],
 "metadata": {
  "interpreter": {
   "hash": "b602f0e4b1185d2497196146f90151fa108216435f08940bcc07c19b845ae272"
  },
  "kernelspec": {
   "display_name": "Python 3.8.8 ('base')",
   "language": "python",
   "name": "python3"
  },
  "language_info": {
   "codemirror_mode": {
    "name": "ipython",
    "version": 3
   },
   "file_extension": ".py",
   "mimetype": "text/x-python",
   "name": "python",
   "nbconvert_exporter": "python",
   "pygments_lexer": "ipython3",
   "version": "3.8.8"
  },
  "orig_nbformat": 4
 },
 "nbformat": 4,
 "nbformat_minor": 2
}
