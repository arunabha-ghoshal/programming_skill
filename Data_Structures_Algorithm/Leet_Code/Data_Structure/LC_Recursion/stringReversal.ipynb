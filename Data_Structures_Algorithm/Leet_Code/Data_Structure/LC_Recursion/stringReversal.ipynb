{
 "cells": [
  {
   "cell_type": "code",
   "execution_count": 114,
   "metadata": {},
   "outputs": [],
   "source": [
    "from typing import *\n",
    "\n",
    "class Solution:\n",
    "    def reverseString(self, s: List[str]) -> None:\n",
    "        \"\"\"\n",
    "        Do not return anything, modify s in-place instead.\n",
    "        \"\"\"\n",
    "        self.helper(0,s)\n",
    "        return\n",
    "    \n",
    "    def helper(self, index: int, s: List[str]) -> None:\n",
    "        if not bool(s) or index == len(s):\n",
    "            #print(index)\n",
    "            return\n",
    "        \n",
    "        self.helper(index+1,s)\n",
    "        #print(index, end='')\n",
    "        print(s[index], end='')\n",
    "        #print('\\n')\n",
    "        return"
   ]
  },
  {
   "cell_type": "code",
   "execution_count": 115,
   "metadata": {},
   "outputs": [
    {
     "name": "stdout",
     "output_type": "stream",
     "text": [
      "ahbanurA"
     ]
    }
   ],
   "source": [
    "sol = Solution()\n",
    "sol.reverseString(list('Arunabha'))"
   ]
  },
  {
   "cell_type": "code",
   "execution_count": 109,
   "metadata": {},
   "outputs": [],
   "source": [
    "from typing import *\n",
    "\n",
    "def reverseStringIterator(s: List[str])->str:\n",
    "    iter = (len(s)-1)//2\n",
    "    count = 0\n",
    "    while count <= iter:\n",
    "        _b = s[count]\n",
    "        _e = s[-(count+1)]\n",
    "        s[count] = _e\n",
    "        s[-(count+1)] = _b\n",
    "        count +=1 \n",
    "    return s"
   ]
  },
  {
   "cell_type": "code",
   "execution_count": 110,
   "metadata": {},
   "outputs": [
    {
     "data": {
      "text/plain": [
       "['a', 'h', 'b', 'a', 'n', 'u', 'r', 'A']"
      ]
     },
     "execution_count": 110,
     "metadata": {},
     "output_type": "execute_result"
    }
   ],
   "source": [
    "reverseStringIterator(list('Arunabha'))"
   ]
  },
  {
   "cell_type": "code",
   "execution_count": 118,
   "metadata": {},
   "outputs": [],
   "source": [
    "from typing import *\n",
    "\n",
    "class Solution:\n",
    "    def reverseString(self, s: List[str]) -> None:\n",
    "        \"\"\"\n",
    "        Do not return anything, modify s in-place instead.\n",
    "        \"\"\"\n",
    "        def helper(left, right):\n",
    "            if left<right:\n",
    "                s[left], s[right] = s[right], s[left]\n",
    "                helper(left+1, right-1)\n",
    "        helper(0, len(s)-1)\n",
    "\n",
    "sol = Solution()\n",
    "sol.reverseString(list('Arunabha'))"
   ]
  },
  {
   "cell_type": "code",
   "execution_count": 120,
   "metadata": {},
   "outputs": [],
   "source": [
    "from typing import *\n",
    "\n",
    "class Solution:\n",
    "    def reverseString(self, s: List[str]) -> None:\n",
    "        \"\"\"\n",
    "        Do not return anything, modify s in-place instead.\n",
    "        \"\"\"\n",
    "        def helper(left, right, s):\n",
    "            if left>=right:\n",
    "                return\n",
    "            \n",
    "            #swapping\n",
    "            s[left], s[right] = s[right], s[left]\n",
    "            return helper(left+1, right-1, s)\n",
    "        helper(0,len(s)-1, s)\n",
    "        #print(s)\n",
    "\n",
    "sol = Solution()\n",
    "sol.reverseString(list('Arunabha'))"
   ]
  },
  {
   "cell_type": "code",
   "execution_count": 2,
   "metadata": {},
   "outputs": [],
   "source": [
    "from typing import *\n",
    "\n",
    "class Solution:\n",
    "    def reverseString(self, s: List[str]) -> None:\n",
    "        \"\"\"\n",
    "        Do not return anything, modify s in-place instead.\n",
    "        \"\"\"\n",
    "        left, right = 0, len(s)-1\n",
    "        while left<right:\n",
    "            s[left], s[right] = s[right], s[left]\n",
    "            left, right = left+1, right-1\n",
    "        #print(s)\n",
    "\n",
    "sol = Solution()\n",
    "sol.reverseString(list('Arunabha'))"
   ]
  }
 ],
 "metadata": {
  "interpreter": {
   "hash": "bfe38c384d2d566aee429505dceaca329c4e36d9ab992af7abe3e93f0f317d7a"
  },
  "kernelspec": {
   "display_name": "Python 3.10.2 64-bit",
   "language": "python",
   "name": "python3"
  },
  "language_info": {
   "codemirror_mode": {
    "name": "ipython",
    "version": 3
   },
   "file_extension": ".py",
   "mimetype": "text/x-python",
   "name": "python",
   "nbconvert_exporter": "python",
   "pygments_lexer": "ipython3",
   "version": "3.10.2"
  },
  "orig_nbformat": 4
 },
 "nbformat": 4,
 "nbformat_minor": 2
}
