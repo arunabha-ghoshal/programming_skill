{
 "cells": [
  {
   "cell_type": "markdown",
   "metadata": {},
   "source": [
    "## Iteration"
   ]
  },
  {
   "cell_type": "code",
   "execution_count": 20,
   "metadata": {},
   "outputs": [
    {
     "name": "stdout",
     "output_type": "stream",
     "text": [
      "[1, 2, 4, 5, 3, 6, 7]\n"
     ]
    }
   ],
   "source": [
    "from typing import *\n",
    "\n",
    "# Definition for a binary tree node.\n",
    "class TreeNode:\n",
    "    def __init__(self, val=0, left=None, right=None):\n",
    "        self.val = val\n",
    "        self.left = left\n",
    "        self.right = right\n",
    "\n",
    "class Solution:\n",
    "    def preorderTraversal(self, root: Optional[TreeNode]) -> List[int]:\n",
    "        output = []\n",
    "        tree = []\n",
    "        tree.append(root)\n",
    "        if not bool(root):\n",
    "            return output\n",
    "        else:\n",
    "            while tree:\n",
    "                node = tree.pop()\n",
    "                if bool(node):\n",
    "                    output.append(node.val)\n",
    "                    if bool(node.right):\n",
    "                        tree.append(node.right)\n",
    "                    if bool(node.left):\n",
    "                        tree.append(node.left)\n",
    "                \n",
    "            return output\n",
    "\n",
    "root = TreeNode(1)\n",
    "root.left = TreeNode(2)\n",
    "root.right = TreeNode(3)\n",
    "root.left.left = TreeNode(4)\n",
    "root.left.right = TreeNode(5)\n",
    "root.right.left = TreeNode(6)\n",
    "root.right.right = TreeNode(7)\n",
    " \n",
    "sol = Solution()\n",
    "print(sol.preorderTraversal(root))"
   ]
  },
  {
   "cell_type": "code",
   "execution_count": 21,
   "metadata": {},
   "outputs": [
    {
     "name": "stdout",
     "output_type": "stream",
     "text": [
      "      1\n",
      "     / \\\n",
      "    /   \\\n",
      "   /     \\\n",
      "  2       3\n",
      " / \\     / \\\n",
      "4   5   6   7\n"
     ]
    }
   ],
   "source": [
    "from drawtree import draw_level_order\n",
    "draw_level_order('[1,2,3,4,5,6,7]')"
   ]
  },
  {
   "cell_type": "code",
   "execution_count": 22,
   "metadata": {},
   "outputs": [
    {
     "name": "stdout",
     "output_type": "stream",
     "text": [
      "\n",
      "    __1\n",
      "   /   \\\n",
      "  2     3\n",
      " / \\\n",
      "4   5\n",
      "\n"
     ]
    }
   ],
   "source": [
    "from binarytree import Node\n",
    "\n",
    "\n",
    "root = Node(1)\n",
    "root.left = Node(2)\n",
    "root.right = Node(3)\n",
    "root.left.left = Node(4)\n",
    "root.left.right = Node(5)\n",
    "\n",
    "# Pretty-print the trees in stdout.\n",
    "print(root)"
   ]
  },
  {
   "cell_type": "markdown",
   "metadata": {},
   "source": [
    "## Recursion"
   ]
  },
  {
   "cell_type": "code",
   "execution_count": 46,
   "metadata": {},
   "outputs": [],
   "source": [
    "from typing import *\n",
    "\n",
    "class TreeNode:\n",
    "    def __init__(self, val=0, left=None, right=None) -> None:\n",
    "        self.val = val\n",
    "        self.left = left\n",
    "        self.right = right\n",
    "\n",
    "class Solution:\n",
    "    def preOrderTraversalRecur(self, root:Optional[TreeNode], stack:Optional[List[int]]=[]) -> List[int]:\n",
    "        node = root\n",
    "        if node is None:\n",
    "            return []\n",
    "        stack.append(node.val)                          ## visit the root and appending values to stack\n",
    "        self.preOrderTraversalRecur(node.left, stack)   ## traversing left subtree\n",
    "        self.preOrderTraversalRecur(node.right, stack)  ## traversing right subtree\n",
    "        return stack\n"
   ]
  },
  {
   "cell_type": "code",
   "execution_count": 53,
   "metadata": {},
   "outputs": [],
   "source": [
    "from typing import *\n",
    "\n",
    "class TreeNode:\n",
    "    def __init__(self, val=0, left=None, right=None) -> None:\n",
    "        self.val = val\n",
    "        self.left = left\n",
    "        self.right = right\n",
    "\n",
    "class Solution_2:\n",
    "    def preOrderTraversalRecur(self, root:Optional[TreeNode]) -> List[int]:\n",
    "        return [] if root is None else [root.val]+ self.preOrderTraversalRecur(root.left) + self.preOrderTraversalRecur(root.right)"
   ]
  },
  {
   "cell_type": "code",
   "execution_count": 54,
   "metadata": {},
   "outputs": [
    {
     "name": "stdout",
     "output_type": "stream",
     "text": [
      "[1, 2, 4, 5, 3, 6, 7]\n"
     ]
    }
   ],
   "source": [
    "root = TreeNode(1)\n",
    "root.left = TreeNode(2)\n",
    "root.right = TreeNode(3)\n",
    "root.left.left = TreeNode(4)\n",
    "root.left.right = TreeNode(5)\n",
    "root.right.left = TreeNode(6)\n",
    "root.right.right = TreeNode(7)\n",
    " \n",
    "sol = Solution_2()\n",
    "print(sol.preOrderTraversalRecur(root))"
   ]
  },
  {
   "cell_type": "code",
   "execution_count": 48,
   "metadata": {},
   "outputs": [
    {
     "name": "stdout",
     "output_type": "stream",
     "text": [
      "      1\n",
      "     / \\\n",
      "    /   \\\n",
      "   /     \\\n",
      "  2       3\n",
      " / \\     / \\\n",
      "4   5   6   7\n"
     ]
    }
   ],
   "source": [
    "from drawtree import draw_level_order\n",
    "draw_level_order('[1,2,3,4,5,6,7]')"
   ]
  }
 ],
 "metadata": {
  "kernelspec": {
   "display_name": "Python 3.10.2 64-bit",
   "language": "python",
   "name": "python3"
  },
  "language_info": {
   "codemirror_mode": {
    "name": "ipython",
    "version": 3
   },
   "file_extension": ".py",
   "mimetype": "text/x-python",
   "name": "python",
   "nbconvert_exporter": "python",
   "pygments_lexer": "ipython3",
   "version": "3.10.2"
  },
  "orig_nbformat": 4,
  "vscode": {
   "interpreter": {
    "hash": "b6fecb9821137fb1eeea2161f49225dfc2219e02bf5341a9f2c882710ff7fd7e"
   }
  }
 },
 "nbformat": 4,
 "nbformat_minor": 2
}
