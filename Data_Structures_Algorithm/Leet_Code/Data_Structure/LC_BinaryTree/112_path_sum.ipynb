{
 "cells": [
  {
   "cell_type": "code",
   "execution_count": 9,
   "metadata": {},
   "outputs": [],
   "source": [
    "# Definition for a binary tree node. for implementation\n",
    "from binarytree import Node\n",
    "binary1 = Node(3)\n",
    "binary1.left = Node(2)\n",
    "binary1.right = Node(4)\n",
    "binary1.left.right = Node(1)\n",
    "binary1.left.right.left = Node(6)\n",
    "binary1.left.right.right = Node(7)\n",
    "binary1.left.right.right.left = Node(8)\n",
    "binary1.right.left = Node(3)\n",
    "binary1.right.left.left = Node(4)\n",
    "binary1.right.left.right = Node(5)"
   ]
  },
  {
   "cell_type": "code",
   "execution_count": 10,
   "metadata": {},
   "outputs": [
    {
     "name": "stdout",
     "output_type": "stream",
     "text": [
      "The Bindary Tree:  \n",
      "  ________3______\n",
      " /               \\\n",
      "2__             __4\n",
      "   \\           /\n",
      "    1__       3\n",
      "   /   \\     / \\\n",
      "  6     7   4   5\n",
      "       /\n",
      "      8\n",
      "\n"
     ]
    }
   ],
   "source": [
    "# for visualization\n",
    "print('The Bindary Tree: ', binary1)"
   ]
  },
  {
   "cell_type": "markdown",
   "metadata": {},
   "source": [
    "## Recursion"
   ]
  },
  {
   "cell_type": "code",
   "execution_count": 22,
   "metadata": {},
   "outputs": [],
   "source": [
    "from typing import *\n",
    "\n",
    "# Definition for a binary tree node.\n",
    "class TreeNode:\n",
    "    def __init__(self, val=0, left=None, right=None):\n",
    "        self.val = val\n",
    "        self.left = left\n",
    "        self.right = right\n",
    "class Solution:\n",
    "    def hasPathSum(self, root: Optional[TreeNode], targetSum: int) -> bool:\n",
    "        if not root:\n",
    "            return False\n",
    "        targetSum -= root.val\n",
    "        if not root.left and not root.right:\n",
    "            return targetSum == 0\n",
    "        return self.hasPathSum(root.left,targetSum) or self.hasPathSum(root.right,targetSum)"
   ]
  },
  {
   "cell_type": "code",
   "execution_count": 23,
   "metadata": {},
   "outputs": [
    {
     "data": {
      "text/plain": [
       "True"
      ]
     },
     "execution_count": 23,
     "metadata": {},
     "output_type": "execute_result"
    }
   ],
   "source": [
    "sol = Solution()\n",
    "sol.hasPathSum(binary1,15)"
   ]
  },
  {
   "cell_type": "markdown",
   "metadata": {},
   "source": [
    "## Iteration"
   ]
  },
  {
   "cell_type": "code",
   "execution_count": 35,
   "metadata": {},
   "outputs": [],
   "source": [
    "from typing import *\n",
    "\n",
    "# Definition for a binary tree node.\n",
    "class TreeNode:\n",
    "    def __init__(self, val=0, left=None, right=None):\n",
    "        self.val = val\n",
    "        self.left = left\n",
    "        self.right = right\n",
    "class Solution_itr:\n",
    "    def hasPathSum(self, root: Optional[TreeNode], targetSum: int) -> bool:\n",
    "        if not root:\n",
    "            return False\n",
    "        stack = [(root, targetSum-root.val)]\n",
    "        while stack:\n",
    "            node, curr_sum = stack.pop()\n",
    "            if not node.left and not node.right and curr_sum==0:\n",
    "                return True\n",
    "            if node.right:\n",
    "                stack.append((node.right,curr_sum-node.right.val))\n",
    "            if node.left:\n",
    "                stack.append((node.left, curr_sum-node.left.val))\n",
    "        return False"
   ]
  },
  {
   "cell_type": "code",
   "execution_count": 36,
   "metadata": {},
   "outputs": [
    {
     "data": {
      "text/plain": [
       "True"
      ]
     },
     "execution_count": 36,
     "metadata": {},
     "output_type": "execute_result"
    }
   ],
   "source": [
    "sol = Solution_itr()\n",
    "sol.hasPathSum(binary1,14)"
   ]
  }
 ],
 "metadata": {
  "kernelspec": {
   "display_name": "Python 3.10.2 64-bit",
   "language": "python",
   "name": "python3"
  },
  "language_info": {
   "codemirror_mode": {
    "name": "ipython",
    "version": 3
   },
   "file_extension": ".py",
   "mimetype": "text/x-python",
   "name": "python",
   "nbconvert_exporter": "python",
   "pygments_lexer": "ipython3",
   "version": "3.10.2"
  },
  "orig_nbformat": 4,
  "vscode": {
   "interpreter": {
    "hash": "b6fecb9821137fb1eeea2161f49225dfc2219e02bf5341a9f2c882710ff7fd7e"
   }
  }
 },
 "nbformat": 4,
 "nbformat_minor": 2
}
