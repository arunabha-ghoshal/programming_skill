{
 "cells": [
  {
   "cell_type": "markdown",
   "metadata": {},
   "source": [
    "## Top-Down approach"
   ]
  },
  {
   "cell_type": "code",
   "execution_count": 24,
   "metadata": {},
   "outputs": [],
   "source": [
    "from typing import *\n",
    "\n",
    "class TreeNode:\n",
    "    def __init__(self, val=0, left=None, right=None):\n",
    "        self.val = val\n",
    "        self.left = left\n",
    "        self.right = right\n",
    "\n",
    "class Solution:\n",
    "    answer = 0\n",
    "    def maxDepth(self, root: Optional[TreeNode], depth:Optional[int]=1) -> int:\n",
    "        if root is None:\n",
    "            return None\n",
    "        if (root.left is None and root.right is None):\n",
    "            Solution.answer = max(Solution.answer,depth)\n",
    "        self.maxDepth(root.left, depth+1)\n",
    "        self.maxDepth(root.right, depth+1)\n",
    "        return Solution.answer"
   ]
  },
  {
   "cell_type": "code",
   "execution_count": 25,
   "metadata": {},
   "outputs": [
    {
     "name": "stdout",
     "output_type": "stream",
     "text": [
      "5\n"
     ]
    }
   ],
   "source": [
    "from binarytree import Node\n",
    "\n",
    "binary1 = TreeNode(3)\n",
    "binary1.left = TreeNode(2)\n",
    "binary1.right = TreeNode(4)\n",
    "binary1.left.right = TreeNode(1)\n",
    "binary1.left.right.left = TreeNode(6)\n",
    "binary1.left.right.right = TreeNode(7)\n",
    "binary1.left.right.right.left = TreeNode(8)\n",
    "binary1.right.left = TreeNode(3)\n",
    "binary1.right.left.left = TreeNode(4)\n",
    "binary1.right.left.right = TreeNode(5)\n",
    "\n",
    "sol =Solution()\n",
    "print(sol.maxDepth(binary1))\n"
   ]
  },
  {
   "cell_type": "code",
   "execution_count": 16,
   "metadata": {},
   "outputs": [
    {
     "name": "stdout",
     "output_type": "stream",
     "text": [
      "The Bindary Tree:  \n",
      "  ________3______\n",
      " /               \\\n",
      "2__             __4\n",
      "   \\           /\n",
      "    1__       3\n",
      "   /   \\     / \\\n",
      "  6     7   4   5\n",
      "       /\n",
      "      8\n",
      "\n"
     ]
    }
   ],
   "source": [
    "# for visualization\n",
    "print('The Bindary Tree: ', binary1)"
   ]
  },
  {
   "cell_type": "markdown",
   "metadata": {},
   "source": [
    "## Bottom-Up approach"
   ]
  },
  {
   "cell_type": "code",
   "execution_count": 26,
   "metadata": {},
   "outputs": [],
   "source": [
    "from typing import *\n",
    "\n",
    "class TreeNode:\n",
    "    def __init__(self, val=0, left=None, right=None):\n",
    "        self.val = val\n",
    "        self.left = left\n",
    "        self.right = right\n",
    "\n",
    "class Solution:\n",
    "    def maxDepth(self, root: Optional[TreeNode]) -> int: \n",
    "        if root is None:\n",
    "            return 0\n",
    "        left_depth = self.maxDepth(root.left)\n",
    "        right_depth = self.maxDepth(root.right)\n",
    "        return max(left_depth, right_depth) + 1"
   ]
  },
  {
   "cell_type": "code",
   "execution_count": 29,
   "metadata": {},
   "outputs": [
    {
     "name": "stdout",
     "output_type": "stream",
     "text": [
      "6\n"
     ]
    }
   ],
   "source": [
    "from binarytree import Node\n",
    "\n",
    "binary1 = TreeNode(3)\n",
    "binary1.left = TreeNode(2)\n",
    "binary1.right = TreeNode(4)\n",
    "binary1.left.right = TreeNode(1)\n",
    "binary1.left.right.left = TreeNode(6)\n",
    "binary1.left.right.right = TreeNode(7)\n",
    "binary1.left.right.right.left = TreeNode(8)\n",
    "binary1.right.left = TreeNode(3)\n",
    "binary1.right.left.left = TreeNode(4)\n",
    "binary1.right.left.right = TreeNode(5)\n",
    "binary1.right.left.right.left = TreeNode(9)\n",
    "binary1.right.left.right.left.left = TreeNode(10)\n",
    "\n",
    "sol =Solution()\n",
    "print(sol.maxDepth(binary1))\n"
   ]
  },
  {
   "cell_type": "code",
   "execution_count": null,
   "metadata": {},
   "outputs": [],
   "source": []
  }
 ],
 "metadata": {
  "kernelspec": {
   "display_name": "Python 3.10.2 64-bit",
   "language": "python",
   "name": "python3"
  },
  "language_info": {
   "codemirror_mode": {
    "name": "ipython",
    "version": 3
   },
   "file_extension": ".py",
   "mimetype": "text/x-python",
   "name": "python",
   "nbconvert_exporter": "python",
   "pygments_lexer": "ipython3",
   "version": "3.10.2"
  },
  "orig_nbformat": 4,
  "vscode": {
   "interpreter": {
    "hash": "b6fecb9821137fb1eeea2161f49225dfc2219e02bf5341a9f2c882710ff7fd7e"
   }
  }
 },
 "nbformat": 4,
 "nbformat_minor": 2
}
