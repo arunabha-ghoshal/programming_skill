{
 "cells": [
  {
   "cell_type": "markdown",
   "metadata": {},
   "source": [
    "## Recursion"
   ]
  },
  {
   "cell_type": "code",
   "execution_count": 3,
   "metadata": {},
   "outputs": [],
   "source": [
    "from typing import *\n",
    "\n",
    "#Definition for a binary tree node.\n",
    "class TreeNode:\n",
    "    def __init__(self, val=0, left=None, right=None):\n",
    "        self.val = val\n",
    "        self.left = left\n",
    "        self.right = right\n",
    "\n",
    "class Solution:\n",
    "    def isSymmetric(self, root: Optional[TreeNode]) -> bool:\n",
    "        return self.isMirror(root, root)\n",
    "    def isMirror(self, node1:Optional[TreeNode], node2:Optional[TreeNode]) -> bool:\n",
    "        if node1 is None and node2 is None :\n",
    "            return True\n",
    "        if node1 is None or node2 is None :\n",
    "            return False\n",
    "        return (node1.val == node2.val) and self.isMirror(node1.right, node2.left) and self.isMirror(node1.left, node2.right)       "
   ]
  },
  {
   "cell_type": "code",
   "execution_count": 4,
   "metadata": {},
   "outputs": [
    {
     "name": "stdout",
     "output_type": "stream",
     "text": [
      "False\n"
     ]
    }
   ],
   "source": [
    "root = TreeNode(1)\n",
    "root.left = TreeNode(2)\n",
    "root.right = TreeNode(2)\n",
    "# root.left.left = TreeNode(3)\n",
    "root.left.right = TreeNode(4)\n",
    "root.right.left = TreeNode(3)\n",
    "# root.right.right = TreeNode(4)\n",
    " \n",
    "sol = Solution()\n",
    "print(sol.isSymmetric(root))"
   ]
  },
  {
   "cell_type": "markdown",
   "metadata": {},
   "source": [
    "## Iteration"
   ]
  },
  {
   "cell_type": "code",
   "execution_count": 5,
   "metadata": {},
   "outputs": [],
   "source": [
    "from typing import *\n",
    "\n",
    "#Definition for a binary tree node.\n",
    "class TreeNode:\n",
    "    def __init__(self, val=0, left=None, right=None):\n",
    "        self.val = val\n",
    "        self.left = left\n",
    "        self.right = right\n",
    "\n",
    "class Solution_2:\n",
    "    def isSymmetric(self, root: Optional[TreeNode]) -> bool:\n",
    "        queue = []\n",
    "        queue.append(root)\n",
    "        queue.append(root)\n",
    "        while queue:\n",
    "            node_1 = queue.pop(0)\n",
    "            node_2 = queue.pop(0)\n",
    "            if not node_1 and not node_2:\n",
    "                continue\n",
    "            if not node_1 or not node_2:\n",
    "                return False\n",
    "            if node_1.val != node_2.val:\n",
    "                return False\n",
    "            \n",
    "            queue.append(node_1.left)\n",
    "            queue.append(node_2.right)\n",
    "            queue.append(node_1.right)\n",
    "            queue.append(node_2.left)\n",
    "        return True"
   ]
  },
  {
   "cell_type": "code",
   "execution_count": 7,
   "metadata": {},
   "outputs": [
    {
     "name": "stdout",
     "output_type": "stream",
     "text": [
      "True\n"
     ]
    }
   ],
   "source": [
    "root = TreeNode(1)\n",
    "root.left = TreeNode(2)\n",
    "root.right = TreeNode(2)\n",
    "# root.left.left = TreeNode(3)\n",
    "root.left.right = TreeNode(3)\n",
    "root.right.left = TreeNode(3)\n",
    "# root.right.right = TreeNode(4)\n",
    " \n",
    "sol = Solution_2()\n",
    "print(sol.isSymmetric(root))"
   ]
  },
  {
   "cell_type": "code",
   "execution_count": null,
   "metadata": {},
   "outputs": [],
   "source": []
  },
  {
   "cell_type": "code",
   "execution_count": null,
   "metadata": {},
   "outputs": [],
   "source": []
  }
 ],
 "metadata": {
  "kernelspec": {
   "display_name": "Python 3.10.2 64-bit",
   "language": "python",
   "name": "python3"
  },
  "language_info": {
   "codemirror_mode": {
    "name": "ipython",
    "version": 3
   },
   "file_extension": ".py",
   "mimetype": "text/x-python",
   "name": "python",
   "nbconvert_exporter": "python",
   "pygments_lexer": "ipython3",
   "version": "3.10.2"
  },
  "orig_nbformat": 4,
  "vscode": {
   "interpreter": {
    "hash": "b6fecb9821137fb1eeea2161f49225dfc2219e02bf5341a9f2c882710ff7fd7e"
   }
  }
 },
 "nbformat": 4,
 "nbformat_minor": 2
}
