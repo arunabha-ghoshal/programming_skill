{
 "cells": [
  {
   "cell_type": "code",
   "execution_count": 32,
   "metadata": {},
   "outputs": [],
   "source": [
    "from typing import *\n",
    "\n",
    "class Solution:\n",
    "    def romanToInt(self, s: str) -> int:\n",
    "        lkp = {\n",
    "                \"I\" : 1,\n",
    "                \"V\" : 5,\n",
    "                \"X\" : 10,\n",
    "                \"L\" : 50,\n",
    "                \"C\" : 100,\n",
    "                \"D\" : 500,\n",
    "                \"M\" : 1000\n",
    "                }\n",
    "        sum = 0\n",
    "        i = 0\n",
    "        while(i<len(s)):\n",
    "            if i+1<len(s) and lkp[s[i]]<lkp[s[i+1]]:\n",
    "                sum += lkp[s[i+1]]-lkp[s[i]]\n",
    "                i += 2\n",
    "            else:\n",
    "                sum += lkp[s[i]]\n",
    "                i += 1\n",
    "            #print(sum)\n",
    "        return sum"
   ]
  },
  {
   "cell_type": "code",
   "execution_count": 33,
   "metadata": {},
   "outputs": [
    {
     "name": "stdout",
     "output_type": "stream",
     "text": [
      "1994\n",
      "3\n"
     ]
    }
   ],
   "source": [
    "sol = Solution()\n",
    "print(sol.romanToInt(s = \"MCMXCIV\"))\n",
    "print(sol.romanToInt(s = \"III\"))"
   ]
  },
  {
   "cell_type": "code",
   "execution_count": null,
   "metadata": {},
   "outputs": [],
   "source": []
  }
 ],
 "metadata": {
  "kernelspec": {
   "display_name": "Python 3.10.2 64-bit",
   "language": "python",
   "name": "python3"
  },
  "language_info": {
   "codemirror_mode": {
    "name": "ipython",
    "version": 3
   },
   "file_extension": ".py",
   "mimetype": "text/x-python",
   "name": "python",
   "nbconvert_exporter": "python",
   "pygments_lexer": "ipython3",
   "version": "3.10.2"
  },
  "orig_nbformat": 4,
  "vscode": {
   "interpreter": {
    "hash": "b6fecb9821137fb1eeea2161f49225dfc2219e02bf5341a9f2c882710ff7fd7e"
   }
  }
 },
 "nbformat": 4,
 "nbformat_minor": 2
}
