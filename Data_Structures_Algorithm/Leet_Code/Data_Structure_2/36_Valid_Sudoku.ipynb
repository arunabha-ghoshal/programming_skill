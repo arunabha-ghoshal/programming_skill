{
 "cells": [
  {
   "cell_type": "code",
   "execution_count": 27,
   "metadata": {},
   "outputs": [],
   "source": [
    "from typing import *\n",
    "\n",
    "def isValidSudoku(board: List[List[str]]) -> bool:\n",
    "    \n",
    "    for rec in board:\n",
    "        freq = {}\n",
    "        for r in rec:\n",
    "            try:\n",
    "                r = int(r)\n",
    "            except ValueError:\n",
    "                continue\n",
    "            else:\n",
    "                if not freq.get(r,0):\n",
    "                    freq[r]=freq.get(r,0)+1\n",
    "                else:\n",
    "                    return False\n",
    "    count = 0\n",
    "    \n",
    "    while count<9:\n",
    "        freq = {}\n",
    "        for rec in board:\n",
    "            r = rec[count]\n",
    "            try:\n",
    "                r = int(r)\n",
    "            except ValueError:\n",
    "                continue\n",
    "            else:\n",
    "                if not freq.get(r,0):\n",
    "                    freq[r]=freq.get(r,0)+1\n",
    "                else:\n",
    "                    return False\n",
    "        count+= 1\n",
    "\n",
    "    block = [(0,3),(3,6),(6,9)]\n",
    "    for b in block:\n",
    "        start = b[0]\n",
    "        end = b[1]\n",
    "        freq1 = {}\n",
    "        freq2 = {}\n",
    "        freq3 = {}\n",
    "        for row in board[start:end]:\n",
    "            for i in range(9):\n",
    "                r = row[i]\n",
    "                if i in range(0,3):\n",
    "                    #print(r)\n",
    "                    try:\n",
    "                        r = int(r)\n",
    "                    except ValueError:\n",
    "                        continue\n",
    "                    else:\n",
    "                        if not freq1.get(r,0):\n",
    "                            freq1[r]=freq1.get(r,0)+1\n",
    "                        else:\n",
    "                            return False\n",
    "                elif i in range(3,6):\n",
    "                    try:\n",
    "                        r = int(r)\n",
    "                    except ValueError:\n",
    "                        continue\n",
    "                    else:\n",
    "                        if not freq2.get(r,0):\n",
    "                            freq2[r]=freq2.get(r,0)+1\n",
    "                        else:\n",
    "                            return False\n",
    "                elif i in range(6,9):\n",
    "                    try:\n",
    "                        r = int(r)\n",
    "                    except ValueError:\n",
    "                        continue\n",
    "                    else:\n",
    "                        if not freq3.get(r,0):\n",
    "                            freq3[r]=freq3.get(r,0)+1\n",
    "                        else:\n",
    "                            return False\n",
    "\n",
    "             \n",
    "\n",
    "    return True"
   ]
  },
  {
   "cell_type": "code",
   "execution_count": 28,
   "metadata": {},
   "outputs": [
    {
     "data": {
      "text/plain": [
       "[['5', '3', '.', '.', '7', '.', '.', '.', '.'],\n",
       " ['6', '.', '3', '1', '9', '5', '.', '.', '.'],\n",
       " ['.', '9', '8', '.', '.', '.', '.', '6', '.'],\n",
       " ['8', '.', '.', '.', '6', '.', '.', '.', '3'],\n",
       " ['4', '.', '.', '8', '.', '3', '.', '.', '1'],\n",
       " ['7', '.', '.', '.', '2', '.', '.', '.', '6'],\n",
       " ['.', '6', '.', '.', '.', '.', '2', '8', '.'],\n",
       " ['.', '.', '.', '4', '1', '9', '.', '.', '5'],\n",
       " ['.', '.', '.', '.', '8', '.', '.', '7', '9']]"
      ]
     },
     "execution_count": 28,
     "metadata": {},
     "output_type": "execute_result"
    }
   ],
   "source": [
    "board = \\\n",
    "[[\"5\",\"3\",\".\",\".\",\"7\",\".\",\".\",\".\",\".\"]\n",
    ",[\"6\",\".\",\"3\",\"1\",\"9\",\"5\",\".\",\".\",\".\"]\n",
    ",[\".\",\"9\",\"8\",\".\",\".\",\".\",\".\",\"6\",\".\"]\n",
    ",[\"8\",\".\",\".\",\".\",\"6\",\".\",\".\",\".\",\"3\"]\n",
    ",[\"4\",\".\",\".\",\"8\",\".\",\"3\",\".\",\".\",\"1\"]\n",
    ",[\"7\",\".\",\".\",\".\",\"2\",\".\",\".\",\".\",\"6\"]\n",
    ",[\".\",\"6\",\".\",\".\",\".\",\".\",\"2\",\"8\",\".\"]\n",
    ",[\".\",\".\",\".\",\"4\",\"1\",\"9\",\".\",\".\",\"5\"]\n",
    ",[\".\",\".\",\".\",\".\",\"8\",\".\",\".\",\"7\",\"9\"]]\n",
    "board"
   ]
  },
  {
   "cell_type": "code",
   "execution_count": 29,
   "metadata": {},
   "outputs": [
    {
     "name": "stdout",
     "output_type": "stream",
     "text": [
      "5\n",
      "3\n",
      ".\n",
      "6\n",
      ".\n",
      "3\n"
     ]
    },
    {
     "data": {
      "text/plain": [
       "False"
      ]
     },
     "execution_count": 29,
     "metadata": {},
     "output_type": "execute_result"
    }
   ],
   "source": [
    "isValidSudoku(board)"
   ]
  },
  {
   "cell_type": "code",
   "execution_count": 38,
   "metadata": {},
   "outputs": [],
   "source": [
    "a = []\n"
   ]
  },
  {
   "cell_type": "code",
   "execution_count": 42,
   "metadata": {},
   "outputs": [],
   "source": [
    "def isValidSudoku(board: List[List[str]]) -> bool:\n",
    "    row = [[] for _ in range(9)]\n",
    "    col = [[] for _ in range(9)]\n",
    "    block = [[] for _ in range(9)]\n",
    "    n = 9\n",
    "\n",
    "    for r in range(n):\n",
    "        for c in range(n):\n",
    "            val = board[r][c]\n",
    "            if val.isdigit():\n",
    "                block_id = (r//3)*3+c//3\n",
    "                if val in row[r] or val in col[c] or val in block[block_id]:\n",
    "                    return False\n",
    "                row[r].append(val)\n",
    "                col[c].append(val)\n",
    "                block[block_id].append(val)\n",
    "    return True\n",
    "\n",
    "\n",
    "                \n"
   ]
  },
  {
   "cell_type": "code",
   "execution_count": 43,
   "metadata": {},
   "outputs": [
    {
     "data": {
      "text/plain": [
       "[['5', '3', '.', '.', '7', '.', '.', '.', '.'],\n",
       " ['6', '.', '3', '1', '9', '5', '.', '.', '.'],\n",
       " ['.', '9', '8', '.', '.', '.', '.', '6', '.'],\n",
       " ['8', '.', '.', '.', '6', '.', '.', '.', '3'],\n",
       " ['4', '.', '.', '8', '.', '3', '.', '.', '1'],\n",
       " ['7', '.', '.', '.', '2', '.', '.', '.', '6'],\n",
       " ['.', '6', '.', '.', '.', '.', '2', '8', '.'],\n",
       " ['.', '.', '.', '4', '1', '9', '.', '.', '5'],\n",
       " ['.', '.', '.', '.', '8', '.', '.', '7', '9']]"
      ]
     },
     "execution_count": 43,
     "metadata": {},
     "output_type": "execute_result"
    }
   ],
   "source": [
    "board = \\\n",
    "[[\"5\",\"3\",\".\",\".\",\"7\",\".\",\".\",\".\",\".\"]\n",
    ",[\"6\",\".\",\"3\",\"1\",\"9\",\"5\",\".\",\".\",\".\"]\n",
    ",[\".\",\"9\",\"8\",\".\",\".\",\".\",\".\",\"6\",\".\"]\n",
    ",[\"8\",\".\",\".\",\".\",\"6\",\".\",\".\",\".\",\"3\"]\n",
    ",[\"4\",\".\",\".\",\"8\",\".\",\"3\",\".\",\".\",\"1\"]\n",
    ",[\"7\",\".\",\".\",\".\",\"2\",\".\",\".\",\".\",\"6\"]\n",
    ",[\".\",\"6\",\".\",\".\",\".\",\".\",\"2\",\"8\",\".\"]\n",
    ",[\".\",\".\",\".\",\"4\",\"1\",\"9\",\".\",\".\",\"5\"]\n",
    ",[\".\",\".\",\".\",\".\",\"8\",\".\",\".\",\"7\",\"9\"]]\n",
    "board"
   ]
  },
  {
   "cell_type": "code",
   "execution_count": 44,
   "metadata": {},
   "outputs": [
    {
     "data": {
      "text/plain": [
       "False"
      ]
     },
     "execution_count": 44,
     "metadata": {},
     "output_type": "execute_result"
    }
   ],
   "source": [
    "isValidSudoku(board)"
   ]
  },
  {
   "cell_type": "code",
   "execution_count": null,
   "metadata": {},
   "outputs": [],
   "source": []
  }
 ],
 "metadata": {
  "interpreter": {
   "hash": "bfe38c384d2d566aee429505dceaca329c4e36d9ab992af7abe3e93f0f317d7a"
  },
  "kernelspec": {
   "display_name": "Python 3.10.2 64-bit",
   "language": "python",
   "name": "python3"
  },
  "language_info": {
   "codemirror_mode": {
    "name": "ipython",
    "version": 3
   },
   "file_extension": ".py",
   "mimetype": "text/x-python",
   "name": "python",
   "nbconvert_exporter": "python",
   "pygments_lexer": "ipython3",
   "version": "3.10.2"
  },
  "orig_nbformat": 4
 },
 "nbformat": 4,
 "nbformat_minor": 2
}
