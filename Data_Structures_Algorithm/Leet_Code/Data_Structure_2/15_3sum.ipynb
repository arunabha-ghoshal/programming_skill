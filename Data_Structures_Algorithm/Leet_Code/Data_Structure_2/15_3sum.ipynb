{
 "cells": [
  {
   "cell_type": "code",
   "execution_count": 18,
   "metadata": {},
   "outputs": [],
   "source": [
    "from typing import *\n",
    "\n",
    "class Solution:\n",
    "    def threeSum(self, nums: List[int]) -> List[List[int]]:\n",
    "        res = []\n",
    "        nums.sort()\n",
    "        print(\"nums :\",nums)\n",
    "        # assert False\n",
    "        for i in range(len(nums)):\n",
    "            if nums[i]>0:\n",
    "                break\n",
    "            if i == 0 or nums[i-1] != nums[i]:\n",
    "                self.twoSum(nums, res, i)\n",
    "        return res\n",
    "\n",
    "    def twoSum(self, nums, res, i):\n",
    "        seen = set()\n",
    "        j = i+1\n",
    "        while j < len(nums):\n",
    "            complement = -nums[i]-nums[j]\n",
    "            if complement in seen:\n",
    "                res.append([nums[i], nums[j], complement])\n",
    "                while j+1 < len(nums) and nums[j] == nums[j+1]:\n",
    "                    j += 1\n",
    "            seen.add(nums[j])\n",
    "            j += 1\n",
    "        print(\"seen :\",seen)"
   ]
  },
  {
   "cell_type": "code",
   "execution_count": 19,
   "metadata": {},
   "outputs": [
    {
     "name": "stdout",
     "output_type": "stream",
     "text": [
      "nums : [-4, -1, -1, 0, 1, 2]\n",
      "seen : {0, 1, 2, -1}\n",
      "seen : {0, 1, 2, -1}\n",
      "seen : {1, 2}\n"
     ]
    },
    {
     "data": {
      "text/plain": [
       "[[-1, 1, 0], [-1, 2, -1]]"
      ]
     },
     "execution_count": 19,
     "metadata": {},
     "output_type": "execute_result"
    }
   ],
   "source": [
    "sol = Solution()\n",
    "sol.threeSum(nums = [-1,0,1,2,-1,-4])"
   ]
  },
  {
   "cell_type": "code",
   "execution_count": 30,
   "metadata": {},
   "outputs": [],
   "source": [
    "from typing import *\n",
    "\n",
    "class Solution:\n",
    "    def threeSum(self, nums: List[int]):# -> List[List[int]]:\n",
    "        res, dups = set(), set()\n",
    "        seen = {}\n",
    "        for i, val1 in enumerate(nums):\n",
    "            #print(i,'\\t',val1)\n",
    "            if val1 not in dups:\n",
    "                dups.add(val1)\n",
    "                print('dups :',dups)\n",
    "                for j, val2 in enumerate(nums[i+1:]):\n",
    "                    complement = -val1 - val2\n",
    "                    if complement in seen and seen[complement] == i:\n",
    "                        res.add(tuple(sorted((val1,val2,complement))))\n",
    "                        print('res :',res)\n",
    "                    seen[val2] = i\n",
    "                    print('seen :',seen)\n",
    "        return res\n"
   ]
  },
  {
   "cell_type": "code",
   "execution_count": 31,
   "metadata": {},
   "outputs": [
    {
     "name": "stdout",
     "output_type": "stream",
     "text": [
      "dups : {-1}\n",
      "seen : {0: 0}\n",
      "res : {(-1, 0, 1)}\n",
      "seen : {0: 0, 1: 0}\n",
      "seen : {0: 0, 1: 0, 2: 0}\n",
      "res : {(-1, 0, 1), (-1, -1, 2)}\n",
      "seen : {0: 0, 1: 0, 2: 0, -1: 0}\n",
      "seen : {0: 0, 1: 0, 2: 0, -1: 0, -4: 0}\n",
      "dups : {0, -1}\n",
      "seen : {0: 0, 1: 1, 2: 0, -1: 0, -4: 0}\n",
      "seen : {0: 0, 1: 1, 2: 1, -1: 0, -4: 0}\n",
      "res : {(-1, 0, 1), (-1, -1, 2)}\n",
      "seen : {0: 0, 1: 1, 2: 1, -1: 1, -4: 0}\n",
      "seen : {0: 0, 1: 1, 2: 1, -1: 1, -4: 1}\n",
      "dups : {0, 1, -1}\n",
      "seen : {0: 0, 1: 1, 2: 2, -1: 1, -4: 1}\n",
      "seen : {0: 0, 1: 1, 2: 2, -1: 2, -4: 1}\n",
      "seen : {0: 0, 1: 1, 2: 2, -1: 2, -4: 2}\n",
      "dups : {0, 1, 2, -1}\n",
      "seen : {0: 0, 1: 1, 2: 2, -1: 3, -4: 2}\n",
      "seen : {0: 0, 1: 1, 2: 2, -1: 3, -4: 3}\n",
      "dups : {0, 1, 2, -4, -1}\n"
     ]
    },
    {
     "data": {
      "text/plain": [
       "{(-1, -1, 2), (-1, 0, 1)}"
      ]
     },
     "execution_count": 31,
     "metadata": {},
     "output_type": "execute_result"
    }
   ],
   "source": [
    "sol = Solution()\n",
    "sol.threeSum(nums = [-1,0,1,2,-1,-4])"
   ]
  },
  {
   "cell_type": "code",
   "execution_count": null,
   "metadata": {},
   "outputs": [],
   "source": []
  }
 ],
 "metadata": {
  "interpreter": {
   "hash": "b6fecb9821137fb1eeea2161f49225dfc2219e02bf5341a9f2c882710ff7fd7e"
  },
  "kernelspec": {
   "display_name": "Python 3.10.2 64-bit",
   "language": "python",
   "name": "python3"
  },
  "language_info": {
   "codemirror_mode": {
    "name": "ipython",
    "version": 3
   },
   "file_extension": ".py",
   "mimetype": "text/x-python",
   "name": "python",
   "nbconvert_exporter": "python",
   "pygments_lexer": "ipython3",
   "version": "3.10.2"
  },
  "orig_nbformat": 4
 },
 "nbformat": 4,
 "nbformat_minor": 2
}
