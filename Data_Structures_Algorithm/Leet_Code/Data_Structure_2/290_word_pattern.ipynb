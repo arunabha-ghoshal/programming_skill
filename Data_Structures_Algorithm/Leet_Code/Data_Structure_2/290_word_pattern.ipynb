{
 "cells": [
  {
   "cell_type": "code",
   "execution_count": 43,
   "metadata": {},
   "outputs": [],
   "source": [
    "from typing import *\n",
    "\n",
    "class Solution:\n",
    "    def wordPattern(self, pattern: str, s: str) -> bool:\n",
    "        hashtable = {}\n",
    "        res = []\n",
    "        s1 = s.split(' ')\n",
    "        if len(s1) == len(pattern):\n",
    "            for pos in range(len(pattern)):\n",
    "                if pattern[pos] not in hashtable:\n",
    "                    if s1[pos] not in hashtable.values():\n",
    "                        hashtable[pattern[pos]] = s1[pos]\n",
    "                    else:\n",
    "                        return False\n",
    "            \n",
    "            for p in pattern:\n",
    "                res.append(hashtable[p])\n",
    "            if s == ' '.join(res):\n",
    "                return True\n",
    "            else:\n",
    "                return False\n",
    "        return False"
   ]
  },
  {
   "cell_type": "code",
   "execution_count": 44,
   "metadata": {},
   "outputs": [
    {
     "data": {
      "text/plain": [
       "False"
      ]
     },
     "execution_count": 44,
     "metadata": {},
     "output_type": "execute_result"
    }
   ],
   "source": [
    "sol = Solution()\n",
    "sol.wordPattern(pattern = \"jquery\", s = \"jquery\")"
   ]
  },
  {
   "cell_type": "code",
   "execution_count": null,
   "metadata": {},
   "outputs": [],
   "source": []
  }
 ],
 "metadata": {
  "interpreter": {
   "hash": "b6fecb9821137fb1eeea2161f49225dfc2219e02bf5341a9f2c882710ff7fd7e"
  },
  "kernelspec": {
   "display_name": "Python 3.10.2 64-bit",
   "language": "python",
   "name": "python3"
  },
  "language_info": {
   "codemirror_mode": {
    "name": "ipython",
    "version": 3
   },
   "file_extension": ".py",
   "mimetype": "text/x-python",
   "name": "python",
   "nbconvert_exporter": "python",
   "pygments_lexer": "ipython3",
   "version": "3.10.2"
  },
  "orig_nbformat": 4
 },
 "nbformat": 4,
 "nbformat_minor": 2
}
