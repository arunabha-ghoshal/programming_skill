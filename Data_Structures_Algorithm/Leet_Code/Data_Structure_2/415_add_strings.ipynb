{
 "cells": [
  {
   "cell_type": "code",
   "execution_count": 49,
   "metadata": {},
   "outputs": [],
   "source": [
    "from typing import *\n",
    "\n",
    "class Solution:\n",
    "    def addStrings(self, num1: str, num2: str) -> str:\n",
    "        l1, l2 = len(num1), len(num2)\n",
    "        diff = l1 - l2\n",
    "        carry = 0\n",
    "        res = [0 for i in range(l1)]\n",
    "        if l1<l2:\n",
    "            return self.addStrings(num2, num1)\n",
    "        for pos in reversed(range(l1)):\n",
    "            a = ord(num1[pos]) - ord('0')\n",
    "            if pos-diff>=0:\n",
    "                b = ord(num2[pos-diff]) - ord('0')\n",
    "            else:\n",
    "                b = 0\n",
    "            res[pos] = (a+b+carry)%10\n",
    "            carry = (a+b+carry)//10\n",
    "        if carry!=0:\n",
    "            res.insert(0,carry)\n",
    "        \n",
    "        return ''.join(map(lambda x:str(x),res))\n",
    "            "
   ]
  },
  {
   "cell_type": "code",
   "execution_count": 50,
   "metadata": {},
   "outputs": [
    {
     "data": {
      "text/plain": [
       "'12675'"
      ]
     },
     "execution_count": 50,
     "metadata": {},
     "output_type": "execute_result"
    }
   ],
   "source": [
    "sol = Solution()\n",
    "sol.addStrings(num1 = \"78\", num2 = \"12597\")"
   ]
  },
  {
   "cell_type": "code",
   "execution_count": 12,
   "metadata": {},
   "outputs": [
    {
     "name": "stdout",
     "output_type": "stream",
     "text": [
      "x1 : 6\n",
      "x2 : 2\n",
      "x1 : 5\n",
      "x2 : 1\n",
      "x1 : 4\n",
      "x1 : 3\n",
      "x1 : 2\n",
      "x1 : 1\n"
     ]
    }
   ],
   "source": [
    "lis1 = [1,2,3,4,5,6]\n",
    "lis2 = [1,2]\n",
    "l1 = len(lis1)\n",
    "l2 = len(lis2)\n",
    "diff = l1 - l2\n",
    "for i in reversed(range(l1)):\n",
    "    print('x1 :',lis1[i])\n",
    "    if i-diff>=0:\n",
    "        print('x2 :',lis2[i-diff])"
   ]
  },
  {
   "cell_type": "code",
   "execution_count": 27,
   "metadata": {},
   "outputs": [
    {
     "data": {
      "text/plain": [
       "'12345'"
      ]
     },
     "execution_count": 27,
     "metadata": {},
     "output_type": "execute_result"
    }
   ],
   "source": [
    "l = [1,2,3,4,5]\n",
    "a = ''.join(map(lambda x:str(x),l))\n",
    "a\n"
   ]
  },
  {
   "cell_type": "code",
   "execution_count": null,
   "metadata": {},
   "outputs": [],
   "source": []
  }
 ],
 "metadata": {
  "interpreter": {
   "hash": "b6fecb9821137fb1eeea2161f49225dfc2219e02bf5341a9f2c882710ff7fd7e"
  },
  "kernelspec": {
   "display_name": "Python 3.10.2 64-bit",
   "language": "python",
   "name": "python3"
  },
  "language_info": {
   "codemirror_mode": {
    "name": "ipython",
    "version": 3
   },
   "file_extension": ".py",
   "mimetype": "text/x-python",
   "name": "python",
   "nbconvert_exporter": "python",
   "pygments_lexer": "ipython3",
   "version": "3.10.2"
  },
  "orig_nbformat": 4
 },
 "nbformat": 4,
 "nbformat_minor": 2
}
