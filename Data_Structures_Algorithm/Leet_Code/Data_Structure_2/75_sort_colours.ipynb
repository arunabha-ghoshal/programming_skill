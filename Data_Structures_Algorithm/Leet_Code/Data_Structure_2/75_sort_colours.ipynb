{
 "cells": [
  {
   "cell_type": "code",
   "execution_count": 34,
   "metadata": {},
   "outputs": [],
   "source": [
    "from typing import *\n",
    "\n",
    "class Solution:\n",
    "    def sortColors(self, nums: List[int]) -> None:\n",
    "        \"\"\"\n",
    "        Do not return anything, modify nums in-place instead.\n",
    "        \"\"\"\n",
    "        hash_count = {0:[],1:[],2:[]}\n",
    "\n",
    "        for i in nums:\n",
    "            hash_count.get(i,[]).append(i)\n",
    "\n",
    "        nums[:] = hash_count[0] + hash_count[1] + hash_count[2]\n",
    "        print(nums)\n"
   ]
  },
  {
   "cell_type": "code",
   "execution_count": 35,
   "metadata": {},
   "outputs": [
    {
     "name": "stdout",
     "output_type": "stream",
     "text": [
      "[0, 0, 1, 1, 2, 2]\n"
     ]
    }
   ],
   "source": [
    "sol = Solution()\n",
    "sol.sortColors(nums = [2,0,2,1,1,0])"
   ]
  },
  {
   "cell_type": "markdown",
   "metadata": {},
   "source": [
    "#### Dutch National Flag problem"
   ]
  },
  {
   "cell_type": "code",
   "execution_count": 45,
   "metadata": {},
   "outputs": [],
   "source": [
    "from typing import *\n",
    "\n",
    "class Solution:\n",
    "    def sortColors(self, nums: List[int]) -> None:\n",
    "        b0 = 0              #right-most bounday of 0 pointer\n",
    "        b2 = len(nums)-1    #left-most boundary of 2 pointer\n",
    "        curr = 0            #current variable pointer\n",
    "\n",
    "        while curr<=b2:     #untill curr and b2 coincides\n",
    "            if nums[curr] == 0:     #if curr == 0\n",
    "                nums[b0],nums[curr] = nums[curr],nums[b0]\n",
    "                curr += 1\n",
    "                b0 += 1\n",
    "            elif nums[curr] == 1:   #if curr == 1\n",
    "                curr += 1\n",
    "            else:                   #if curr == 2\n",
    "                nums[b2],nums[curr] = nums[curr],nums[b2]\n",
    "                b2 -= 1\n",
    "        \n",
    "            print(nums)\n"
   ]
  },
  {
   "cell_type": "code",
   "execution_count": 46,
   "metadata": {},
   "outputs": [
    {
     "name": "stdout",
     "output_type": "stream",
     "text": [
      "[1, 0, 2]\n",
      "[1, 0, 2]\n",
      "[0, 1, 2]\n"
     ]
    }
   ],
   "source": [
    "sol = Solution()\n",
    "sol.sortColors(nums = [2,0,1])"
   ]
  },
  {
   "cell_type": "code",
   "execution_count": null,
   "metadata": {},
   "outputs": [],
   "source": []
  }
 ],
 "metadata": {
  "interpreter": {
   "hash": "b6fecb9821137fb1eeea2161f49225dfc2219e02bf5341a9f2c882710ff7fd7e"
  },
  "kernelspec": {
   "display_name": "Python 3.10.2 64-bit",
   "language": "python",
   "name": "python3"
  },
  "language_info": {
   "codemirror_mode": {
    "name": "ipython",
    "version": 3
   },
   "file_extension": ".py",
   "mimetype": "text/x-python",
   "name": "python",
   "nbconvert_exporter": "python",
   "pygments_lexer": "ipython3",
   "version": "3.10.2"
  },
  "orig_nbformat": 4
 },
 "nbformat": 4,
 "nbformat_minor": 2
}
