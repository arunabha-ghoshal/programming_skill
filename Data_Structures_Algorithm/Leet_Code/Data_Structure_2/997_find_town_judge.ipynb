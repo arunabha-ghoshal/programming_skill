{
 "cells": [
  {
   "cell_type": "code",
   "execution_count": 1,
   "metadata": {},
   "outputs": [],
   "source": [
    "from typing import *\n",
    "\n",
    "class Solution:\n",
    "    def findJudge(self, n: int, trust: List[List[int]]) -> int:\n",
    "        pass"
   ]
  },
  {
   "cell_type": "code",
   "execution_count": null,
   "metadata": {},
   "outputs": [],
   "source": [
    "sol = Solution()\n",
    "sol.findJudge(n = 2, trust = [[1,2]])"
   ]
  }
 ],
 "metadata": {
  "interpreter": {
   "hash": "b6fecb9821137fb1eeea2161f49225dfc2219e02bf5341a9f2c882710ff7fd7e"
  },
  "kernelspec": {
   "display_name": "Python 3.10.2 64-bit",
   "language": "python",
   "name": "python3"
  },
  "language_info": {
   "codemirror_mode": {
    "name": "ipython",
    "version": 3
   },
   "file_extension": ".py",
   "mimetype": "text/x-python",
   "name": "python",
   "nbconvert_exporter": "python",
   "pygments_lexer": "ipython3",
   "version": "3.10.2"
  },
  "orig_nbformat": 4
 },
 "nbformat": 4,
 "nbformat_minor": 2
}
