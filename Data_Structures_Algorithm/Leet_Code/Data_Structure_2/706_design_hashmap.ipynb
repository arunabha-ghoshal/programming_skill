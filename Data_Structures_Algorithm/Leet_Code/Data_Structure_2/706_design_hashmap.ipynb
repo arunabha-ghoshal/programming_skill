{
 "cells": [
  {
   "cell_type": "code",
   "execution_count": 1,
   "metadata": {},
   "outputs": [],
   "source": [
    "from typing import *\n",
    "\n",
    "class MyHashMap:\n",
    "\n",
    "    def __init__(self):\n",
    "        self.hash_map = {}\n",
    "        \n",
    "\n",
    "    def put(self, key: int, value: int) -> None:\n",
    "        self.hash_map[key] = value\n",
    "        \n",
    "\n",
    "    def get(self, key: int) -> int:\n",
    "        return self.hash_map.get(key,-1)\n",
    "        \n",
    "\n",
    "    def remove(self, key: int) -> None:\n",
    "        if self.hash_map.get(key,None) is not None:\n",
    "            del self.hash_map[key]\n",
    "        "
   ]
  },
  {
   "cell_type": "code",
   "execution_count": 2,
   "metadata": {},
   "outputs": [
    {
     "data": {
      "text/plain": [
       "5"
      ]
     },
     "execution_count": 2,
     "metadata": {},
     "output_type": "execute_result"
    }
   ],
   "source": [
    "#Your MyHashMap object will be instantiated and called as such:\n",
    "obj = MyHashMap()\n",
    "obj.put('a',5)\n",
    "param_2 = obj.get('a')\n",
    "obj.hash_map()\n",
    "#obj.remove(key)"
   ]
  },
  {
   "cell_type": "code",
   "execution_count": null,
   "metadata": {},
   "outputs": [],
   "source": []
  }
 ],
 "metadata": {
  "interpreter": {
   "hash": "b6fecb9821137fb1eeea2161f49225dfc2219e02bf5341a9f2c882710ff7fd7e"
  },
  "kernelspec": {
   "display_name": "Python 3.10.2 64-bit",
   "language": "python",
   "name": "python3"
  },
  "language_info": {
   "codemirror_mode": {
    "name": "ipython",
    "version": 3
   },
   "file_extension": ".py",
   "mimetype": "text/x-python",
   "name": "python",
   "nbconvert_exporter": "python",
   "pygments_lexer": "ipython3",
   "version": "3.10.2"
  },
  "orig_nbformat": 4
 },
 "nbformat": 4,
 "nbformat_minor": 2
}
