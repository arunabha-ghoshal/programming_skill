{
 "cells": [
  {
   "cell_type": "code",
   "execution_count": 19,
   "metadata": {},
   "outputs": [],
   "source": [
    "from typing import *\n",
    "from functools import reduce\n",
    "\n",
    "class Solution:\n",
    "    def productExceptSelf(self, nums: List[int]) -> List[int]:\n",
    "        length = len(nums)\n",
    "        res = [0 for i in range(length)]\n",
    "        answer_left = [0 for i in range(length)]\n",
    "        answer_left[0] = 1\n",
    "        for j in range(1,length):\n",
    "            answer_left[j] = answer_left[j-1]*nums[j-1]\n",
    "        answer_right = [0 for i in range(length)]\n",
    "        answer_right[-1] = 1\n",
    "        for j in reversed(range(length-1)):\n",
    "            answer_right[j] = answer_right[j+1]*nums[j+1]\n",
    "        for j in range(length):\n",
    "            res[j] = answer_left[j]*answer_right[j]\n",
    "        return res\n"
   ]
  },
  {
   "cell_type": "code",
   "execution_count": 20,
   "metadata": {},
   "outputs": [
    {
     "data": {
      "text/plain": [
       "[24, 12, 8, 6]"
      ]
     },
     "execution_count": 20,
     "metadata": {},
     "output_type": "execute_result"
    }
   ],
   "source": [
    "sol = Solution()\n",
    "sol.productExceptSelf(nums = [1,2,3,4])"
   ]
  },
  {
   "cell_type": "code",
   "execution_count": 22,
   "metadata": {},
   "outputs": [],
   "source": [
    "from typing import *\n",
    "from functools import reduce\n",
    "\n",
    "class Solution:\n",
    "    def productExceptSelf(self, nums: List[int]) -> List[int]:\n",
    "        length = len(nums)\n",
    "        res = [0 for i in range(length)]\n",
    "        res[0] = 1\n",
    "        for i in range(1,length):\n",
    "            res[i] = res[i-1]*nums[i-1]\n",
    "        right = 1\n",
    "        for i in reversed(range(length)):\n",
    "            res[i] = res[i]*right\n",
    "            right = right*nums[i]\n",
    "        return res\n"
   ]
  },
  {
   "cell_type": "code",
   "execution_count": 23,
   "metadata": {},
   "outputs": [
    {
     "data": {
      "text/plain": [
       "[24, 12, 8, 6]"
      ]
     },
     "execution_count": 23,
     "metadata": {},
     "output_type": "execute_result"
    }
   ],
   "source": [
    "sol = Solution()\n",
    "sol.productExceptSelf(nums = [1,2,3,4])"
   ]
  },
  {
   "cell_type": "code",
   "execution_count": null,
   "metadata": {},
   "outputs": [],
   "source": []
  }
 ],
 "metadata": {
  "interpreter": {
   "hash": "b6fecb9821137fb1eeea2161f49225dfc2219e02bf5341a9f2c882710ff7fd7e"
  },
  "kernelspec": {
   "display_name": "Python 3.10.2 64-bit",
   "language": "python",
   "name": "python3"
  },
  "language_info": {
   "codemirror_mode": {
    "name": "ipython",
    "version": 3
   },
   "file_extension": ".py",
   "mimetype": "text/x-python",
   "name": "python",
   "nbconvert_exporter": "python",
   "pygments_lexer": "ipython3",
   "version": "3.10.2"
  },
  "orig_nbformat": 4
 },
 "nbformat": 4,
 "nbformat_minor": 2
}
