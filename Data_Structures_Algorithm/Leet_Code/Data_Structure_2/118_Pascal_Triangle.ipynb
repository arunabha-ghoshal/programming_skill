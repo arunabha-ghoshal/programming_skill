{
 "cells": [
  {
   "cell_type": "code",
   "execution_count": 21,
   "metadata": {},
   "outputs": [],
   "source": [
    "from typing import *\n",
    "def generate(numRows: int) -> List[List[int]]:\n",
    "    triangle = []\n",
    "    for row in range(0,numRows):\n",
    "        element = [None for i in range(row+1)]\n",
    "        element[0], element[-1] = 1,1\n",
    "        \n",
    "        if row>1:\n",
    "            for j in range(1,row):\n",
    "                element[j] = triangle[row-1][j-1] + triangle[row-1][j]\n",
    "\n",
    "        triangle.append(element)\n",
    "\n",
    "    return triangle\n",
    "\n",
    "\n"
   ]
  },
  {
   "cell_type": "code",
   "execution_count": null,
   "metadata": {},
   "outputs": [],
   "source": []
  }
 ],
 "metadata": {
  "interpreter": {
   "hash": "bfe38c384d2d566aee429505dceaca329c4e36d9ab992af7abe3e93f0f317d7a"
  },
  "kernelspec": {
   "display_name": "Python 3.10.2 64-bit",
   "language": "python",
   "name": "python3"
  },
  "language_info": {
   "codemirror_mode": {
    "name": "ipython",
    "version": 3
   },
   "file_extension": ".py",
   "mimetype": "text/x-python",
   "name": "python",
   "nbconvert_exporter": "python",
   "pygments_lexer": "ipython3",
   "version": "3.10.2"
  },
  "orig_nbformat": 4
 },
 "nbformat": 4,
 "nbformat_minor": 2
}
