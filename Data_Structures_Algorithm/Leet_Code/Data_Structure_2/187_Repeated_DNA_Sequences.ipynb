{
 "cells": [
  {
   "cell_type": "code",
   "execution_count": 2,
   "metadata": {},
   "outputs": [],
   "source": [
    "from typing import *\n",
    "\n",
    "class Solution:\n",
    "    def findRepeatedDnaSequences(self, s: str) -> List[str]:\n",
    "        seen = {}\n",
    "        res = []\n",
    "        \n",
    "        for i in range(len(s) - 9):\n",
    "            sequence = s[i:i+10]\n",
    "            if sequence in seen:\n",
    "                if not seen[sequence]:\n",
    "                    seen[sequence] = True\n",
    "                    res.append(sequence)\n",
    "            else:\n",
    "                seen[sequence] = False\n",
    "            \n",
    "        return res"
   ]
  },
  {
   "cell_type": "code",
   "execution_count": 3,
   "metadata": {},
   "outputs": [
    {
     "data": {
      "text/plain": [
       "['AAAAACCCCC', 'CCCCCAAAAA']"
      ]
     },
     "execution_count": 3,
     "metadata": {},
     "output_type": "execute_result"
    }
   ],
   "source": [
    "sol = Solution()\n",
    "sol.findRepeatedDnaSequences(s = \"AAAAACCCCCAAAAACCCCCCAAAAAGGGTTT\")"
   ]
  },
  {
   "cell_type": "code",
   "execution_count": 11,
   "metadata": {},
   "outputs": [],
   "source": [
    "from typing import *\n",
    "\n",
    "class Solution:\n",
    "    def findRepeatedDnaSequences(self, s: str) -> List[str]:\n",
    "        seen = set()\n",
    "        res = set()\n",
    "\n",
    "        for i in range(len(s) - 9):\n",
    "            sequence = s[i:i+10]\n",
    "            if sequence not in seen:\n",
    "                seen.add(sequence)\n",
    "            else:\n",
    "                res.add(sequence)\n",
    "        return list(res)\n"
   ]
  },
  {
   "cell_type": "code",
   "execution_count": 12,
   "metadata": {},
   "outputs": [
    {
     "data": {
      "text/plain": [
       "['CCCCCAAAAA', 'AAAAACCCCC']"
      ]
     },
     "execution_count": 12,
     "metadata": {},
     "output_type": "execute_result"
    }
   ],
   "source": [
    "sol = Solution()\n",
    "sol.findRepeatedDnaSequences(s = \"AAAAACCCCCAAAAACCCCCCAAAAAGGGTTT\")"
   ]
  },
  {
   "cell_type": "code",
   "execution_count": null,
   "metadata": {},
   "outputs": [],
   "source": []
  }
 ],
 "metadata": {
  "interpreter": {
   "hash": "b6fecb9821137fb1eeea2161f49225dfc2219e02bf5341a9f2c882710ff7fd7e"
  },
  "kernelspec": {
   "display_name": "Python 3.10.2 64-bit",
   "language": "python",
   "name": "python3"
  },
  "language_info": {
   "codemirror_mode": {
    "name": "ipython",
    "version": 3
   },
   "file_extension": ".py",
   "mimetype": "text/x-python",
   "name": "python",
   "nbconvert_exporter": "python",
   "pygments_lexer": "ipython3",
   "version": "3.10.2"
  },
  "orig_nbformat": 4
 },
 "nbformat": 4,
 "nbformat_minor": 2
}
