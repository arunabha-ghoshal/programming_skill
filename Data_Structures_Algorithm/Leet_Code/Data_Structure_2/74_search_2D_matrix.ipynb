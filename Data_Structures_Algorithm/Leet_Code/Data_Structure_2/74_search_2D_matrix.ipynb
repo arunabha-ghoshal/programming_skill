{
 "cells": [
  {
   "cell_type": "code",
   "execution_count": 4,
   "metadata": {},
   "outputs": [],
   "source": [
    "from typing import *\n",
    "\n",
    "def searchMatrix(matrix: List[List[int]], target: int) -> bool:\n",
    "    res = False\n",
    "    for row in matrix:\n",
    "        if target <= row[-1]:\n",
    "            if target in row:\n",
    "                res = True\n",
    "                return res\n",
    "            else:\n",
    "                return res\n",
    "        else:\n",
    "            continue\n",
    "    return res      \n",
    "\n"
   ]
  },
  {
   "cell_type": "code",
   "execution_count": 5,
   "metadata": {},
   "outputs": [
    {
     "name": "stdout",
     "output_type": "stream",
     "text": [
      "False\n"
     ]
    }
   ],
   "source": [
    "print(searchMatrix(matrix = [[1,3,5,7],[10,11,16,20],[23,30,34,60]], target = 13))"
   ]
  },
  {
   "cell_type": "code",
   "execution_count": 15,
   "metadata": {},
   "outputs": [],
   "source": [
    "class Solution:\n",
    "    def binarysearch(self, array, low, high, target):\n",
    "        if high>=low:\n",
    "            mid = (high+low)//2\n",
    "\n",
    "            if array[mid] == target:\n",
    "                return True\n",
    "\n",
    "            elif array[mid]>target:\n",
    "                return self.binarysearch(array, low, mid-1, target)\n",
    "\n",
    "            elif array[mid]<target:\n",
    "                return self.binarysearch(array, mid+1, high, target)\n",
    "        else:\n",
    "            return False\n",
    "\n",
    "\n",
    "    def searchMatrix(self, matrix: List[List[int]], target: int) -> bool:\n",
    "        res = False\n",
    "        for row in matrix:\n",
    "            if target <= row[-1]:\n",
    "                if self.binarysearch(row, 0, (len(row)-1),target):\n",
    "                    return True\n",
    "                else:\n",
    "                    return False\n",
    "            else:\n",
    "                continue\n",
    "        return res      "
   ]
  },
  {
   "cell_type": "code",
   "execution_count": 16,
   "metadata": {},
   "outputs": [
    {
     "name": "stdout",
     "output_type": "stream",
     "text": [
      "False\n"
     ]
    }
   ],
   "source": [
    "sol = Solution()\n",
    "print(sol.searchMatrix(matrix = [[1,3,5,7],[10,11,16,20],[23,30,34,60]], target = 13))"
   ]
  },
  {
   "cell_type": "code",
   "execution_count": 23,
   "metadata": {},
   "outputs": [],
   "source": [
    "class Solution:\n",
    "     def searchMatrix(self, matrix: List[List[int]], target: int) -> bool:\n",
    "          top, bottom = 0, len(matrix)-1\n",
    "          while top<=bottom:\n",
    "               mid = (bottom+top)//2\n",
    "               if target>matrix[mid][-1]:\n",
    "                    top = mid+1\n",
    "               elif target<matrix[mid][0]:\n",
    "                    bottom = mid-1\n",
    "               else:\n",
    "                    break\n",
    "          \n",
    "          print(top,bottom)\n",
    "          \n",
    "          if not top<=bottom:\n",
    "               return False\n",
    "          \n",
    "          count = (top+bottom)//2\n",
    "          left,right = 0,len(matrix[count])-1\n",
    "          while left<=right:\n",
    "               mid=(left+right)//2\n",
    "               if target>matrix[count][mid]:\n",
    "                    left = mid+1\n",
    "               elif target<matrix[count][mid]:\n",
    "                    right = mid-1\n",
    "               else:\n",
    "                    return True\n",
    "          return False\n"
   ]
  },
  {
   "cell_type": "code",
   "execution_count": 24,
   "metadata": {},
   "outputs": [
    {
     "name": "stdout",
     "output_type": "stream",
     "text": [
      "0 0\n",
      "True\n"
     ]
    }
   ],
   "source": [
    "sol = Solution()\n",
    "print(sol.searchMatrix(matrix = [[1,3,5,7],[10,11,16,20],[23,30,34,60]], target = 3))"
   ]
  },
  {
   "cell_type": "code",
   "execution_count": null,
   "metadata": {},
   "outputs": [],
   "source": []
  }
 ],
 "metadata": {
  "interpreter": {
   "hash": "b6fecb9821137fb1eeea2161f49225dfc2219e02bf5341a9f2c882710ff7fd7e"
  },
  "kernelspec": {
   "display_name": "Python 3.10.2 64-bit",
   "language": "python",
   "name": "python3"
  },
  "language_info": {
   "codemirror_mode": {
    "name": "ipython",
    "version": 3
   },
   "file_extension": ".py",
   "mimetype": "text/x-python",
   "name": "python",
   "nbconvert_exporter": "python",
   "pygments_lexer": "ipython3",
   "version": "3.10.2"
  },
  "orig_nbformat": 4
 },
 "nbformat": 4,
 "nbformat_minor": 2
}
