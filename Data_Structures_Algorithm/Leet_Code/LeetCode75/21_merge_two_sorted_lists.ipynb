{
 "cells": [
  {
   "cell_type": "code",
   "execution_count": 1,
   "metadata": {},
   "outputs": [],
   "source": [
    "# Definition for singly-linked list.\n",
    "class ListNode:\n",
    "    def __init__(self, val=0, next=None):\n",
    "        self.val = val\n",
    "        self.next = next\n",
    "\n",
    "from typing import *\n",
    "\n",
    "class Solution:\n",
    "    def mergeTwoLists(self, list1: Optional[ListNode], list2: Optional[ListNode]) -> Optional[ListNode]:\n",
    "        prehead = ListNode(-1)\n",
    "        prev = prehead\n",
    "        while list1 and list2:\n",
    "            if list1.val<list2.val:\n",
    "                prev.next=list1\n",
    "                list1=list1.next\n",
    "            else:\n",
    "                prev.next=list2\n",
    "                list2=list2.next\n",
    "            prev = prev.next\n",
    "        \n",
    "        prev.next = list1 if list1 is not None else list2    \n",
    "        \n",
    "\n",
    "        return prehead.next"
   ]
  },
  {
   "cell_type": "code",
   "execution_count": 15,
   "metadata": {},
   "outputs": [],
   "source": [
    "list_node_1_tail = ListNode(4)\n",
    "list_node_1_mid = ListNode(2,list_node_1_tail)\n",
    "list_node_1 = ListNode(1, list_node_1_mid)\n",
    "\n",
    "list_node_2_tail = ListNode(4)\n",
    "list_node_2_mid = ListNode(3, list_node_2_tail)\n",
    "list_node_2 = ListNode(1, list_node_2_mid)"
   ]
  },
  {
   "cell_type": "code",
   "execution_count": 8,
   "metadata": {},
   "outputs": [
    {
     "name": "stdout",
     "output_type": "stream",
     "text": [
      "1 2 4\n",
      "1 3 4\n"
     ]
    }
   ],
   "source": [
    "print(list_node_1.val, list_node_1.next.val,list_node_1.next.next)\n",
    "print(list_node_2.val, list_node_2.next.val,list_node_2.next.next)"
   ]
  },
  {
   "cell_type": "code",
   "execution_count": 16,
   "metadata": {},
   "outputs": [],
   "source": [
    "sol = Solution()\n",
    "ans = sol.mergeTwoLists(list_node_1,list_node_2)"
   ]
  },
  {
   "cell_type": "code",
   "execution_count": 20,
   "metadata": {},
   "outputs": [
    {
     "name": "stdout",
     "output_type": "stream",
     "text": [
      "1 <__main__.ListNode object at 0x000002792B469B40>\n",
      "1 <__main__.ListNode object at 0x000002792B46B880>\n",
      "2 <__main__.ListNode object at 0x000002792BA11180>\n",
      "3 <__main__.ListNode object at 0x000002792BA10190>\n"
     ]
    }
   ],
   "source": [
    "print(ans.val, ans.next)\n",
    "print(ans.next.val, ans.next.next)\n",
    "print(ans.next.next.val, ans.next.next.next)\n",
    "print(ans.next.next.next.val, ans.next.next.next.next)"
   ]
  }
 ],
 "metadata": {
  "kernelspec": {
   "display_name": "Python 3.10.2 64-bit",
   "language": "python",
   "name": "python3"
  },
  "language_info": {
   "codemirror_mode": {
    "name": "ipython",
    "version": 3
   },
   "file_extension": ".py",
   "mimetype": "text/x-python",
   "name": "python",
   "nbconvert_exporter": "python",
   "pygments_lexer": "ipython3",
   "version": "3.10.2"
  },
  "orig_nbformat": 4,
  "vscode": {
   "interpreter": {
    "hash": "b6fecb9821137fb1eeea2161f49225dfc2219e02bf5341a9f2c882710ff7fd7e"
   }
  }
 },
 "nbformat": 4,
 "nbformat_minor": 2
}
