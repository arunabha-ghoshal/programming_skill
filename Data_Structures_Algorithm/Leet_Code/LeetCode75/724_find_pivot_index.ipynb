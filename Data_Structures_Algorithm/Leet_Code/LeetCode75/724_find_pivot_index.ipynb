{
 "cells": [
  {
   "cell_type": "code",
   "execution_count": 14,
   "metadata": {},
   "outputs": [],
   "source": [
    "from typing import *\n",
    "\n",
    "class Solution:\n",
    "    def pivotIndex(self, nums: List[int]) -> int:\n",
    "        arr_sum = sum(nums)\n",
    "        cum_sum = 0\n",
    "        for i in range(len(nums)):\n",
    "            cum_sum += nums[i]\n",
    "            left_sum = cum_sum - nums[i]\n",
    "            #print(f'i: {i}, left_sum: {str(left_sum - nums[i])}')\n",
    "            #print(f'right_sum: {str(arr_sum - left_sum - nums[i])}')\n",
    "            if left_sum == arr_sum - left_sum - nums[i]:\n",
    "                return i\n",
    "\n",
    "        return -1"
   ]
  },
  {
   "cell_type": "code",
   "execution_count": 15,
   "metadata": {},
   "outputs": [
    {
     "data": {
      "text/plain": [
       "3"
      ]
     },
     "execution_count": 15,
     "metadata": {},
     "output_type": "execute_result"
    }
   ],
   "source": [
    "sol = Solution()\n",
    "sol.pivotIndex(nums = [1,7,3,6,5,6])"
   ]
  },
  {
   "cell_type": "code",
   "execution_count": null,
   "metadata": {},
   "outputs": [],
   "source": []
  }
 ],
 "metadata": {
  "kernelspec": {
   "display_name": "Python 3.10.2 64-bit",
   "language": "python",
   "name": "python3"
  },
  "language_info": {
   "codemirror_mode": {
    "name": "ipython",
    "version": 3
   },
   "file_extension": ".py",
   "mimetype": "text/x-python",
   "name": "python",
   "nbconvert_exporter": "python",
   "pygments_lexer": "ipython3",
   "version": "3.10.2"
  },
  "orig_nbformat": 4,
  "vscode": {
   "interpreter": {
    "hash": "b6fecb9821137fb1eeea2161f49225dfc2219e02bf5341a9f2c882710ff7fd7e"
   }
  }
 },
 "nbformat": 4,
 "nbformat_minor": 2
}
