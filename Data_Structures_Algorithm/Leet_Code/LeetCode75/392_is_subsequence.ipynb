{
 "cells": [
  {
   "cell_type": "code",
   "execution_count": 1,
   "metadata": {},
   "outputs": [],
   "source": [
    "from typing import *\n",
    "\n",
    "class Solution:\n",
    "    def isSubsequence(self, s: str, t: str) -> bool:\n",
    "        len_t = len(t)\n",
    "        len_s = len(s)\n",
    "        res = False\n",
    "        count = 0\n",
    "        if not len_s:\n",
    "            res = True\n",
    "        elif len_t and len_s:\n",
    "            for i in range(len_t):\n",
    "                if count<len_s:\n",
    "                    if s[count] == t[i]:\n",
    "                        count += 1\n",
    "                    \n",
    "            if count == len_s:\n",
    "                res = True\n",
    "            \n",
    "        return res"
   ]
  },
  {
   "cell_type": "code",
   "execution_count": 2,
   "metadata": {},
   "outputs": [
    {
     "data": {
      "text/plain": [
       "False"
      ]
     },
     "execution_count": 2,
     "metadata": {},
     "output_type": "execute_result"
    }
   ],
   "source": [
    "sol = Solution()\n",
    "sol.isSubsequence(s = \"b\", t = \"c\")"
   ]
  },
  {
   "cell_type": "code",
   "execution_count": 3,
   "metadata": {},
   "outputs": [],
   "source": [
    "from typing import *\n",
    "\n",
    "class Solution:\n",
    "    def isSubsequence(self, s: str, t: str) -> bool:\n",
    "        len_t = len(t)\n",
    "        len_s = len(s)\n",
    "        res = False\n",
    "        count = 0\n",
    "        if not len_s:\n",
    "            return True\n",
    "        \n",
    "        for i in range(len_t):\n",
    "            if count<len_s:\n",
    "                if s[count] == t[i]:\n",
    "                    count += 1\n",
    "                if count == len_s:\n",
    "                    break\n",
    "                \n",
    "        return count == len_s"
   ]
  },
  {
   "cell_type": "code",
   "execution_count": 4,
   "metadata": {},
   "outputs": [
    {
     "data": {
      "text/plain": [
       "False"
      ]
     },
     "execution_count": 4,
     "metadata": {},
     "output_type": "execute_result"
    }
   ],
   "source": [
    "sol = Solution()\n",
    "sol.isSubsequence(s = \"b\", t = \"c\")"
   ]
  }
 ],
 "metadata": {
  "kernelspec": {
   "display_name": "Python 3.10.2 64-bit",
   "language": "python",
   "name": "python3"
  },
  "language_info": {
   "codemirror_mode": {
    "name": "ipython",
    "version": 3
   },
   "file_extension": ".py",
   "mimetype": "text/x-python",
   "name": "python",
   "nbconvert_exporter": "python",
   "pygments_lexer": "ipython3",
   "version": "3.10.2"
  },
  "orig_nbformat": 4,
  "vscode": {
   "interpreter": {
    "hash": "b6fecb9821137fb1eeea2161f49225dfc2219e02bf5341a9f2c882710ff7fd7e"
   }
  }
 },
 "nbformat": 4,
 "nbformat_minor": 2
}
