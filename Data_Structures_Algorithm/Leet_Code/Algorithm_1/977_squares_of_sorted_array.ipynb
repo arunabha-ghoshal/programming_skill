{
 "cells": [
  {
   "cell_type": "code",
   "execution_count": 19,
   "metadata": {},
   "outputs": [],
   "source": [
    "from typing import *\n",
    "\n",
    "class Solution:\n",
    "    def sortedSquares(self, nums: List[int]) -> List[int]:\n",
    "        l, r, res = 0, len(nums)-1, [0]*len(nums)\n",
    "        print(f\"l={l},\\tr={r}\")\n",
    "        while l<=r:\n",
    "            left, right = abs(nums[l]), abs(nums[r])\n",
    "            print(left,right,sep='\\t')\n",
    "            res[r-l] = max(left,right)**2\n",
    "            print(res)\n",
    "            l, r = l+(left>right), r-(left<=right)\n",
    "            print(f\"l={l},\\tr={r}\")\n",
    "        return res"
   ]
  },
  {
   "cell_type": "code",
   "execution_count": 20,
   "metadata": {},
   "outputs": [
    {
     "name": "stdout",
     "output_type": "stream",
     "text": [
      "l=0,\tr=4\n",
      "4\t10\n",
      "[0, 0, 0, 0, 100]\n",
      "l=0,\tr=3\n",
      "4\t3\n",
      "[0, 0, 0, 16, 100]\n",
      "l=1,\tr=3\n",
      "1\t3\n",
      "[0, 0, 9, 16, 100]\n",
      "l=1,\tr=2\n",
      "1\t0\n",
      "[0, 1, 9, 16, 100]\n",
      "l=2,\tr=2\n",
      "0\t0\n",
      "[0, 1, 9, 16, 100]\n",
      "l=2,\tr=1\n"
     ]
    },
    {
     "data": {
      "text/plain": [
       "[0, 1, 9, 16, 100]"
      ]
     },
     "execution_count": 20,
     "metadata": {},
     "output_type": "execute_result"
    }
   ],
   "source": [
    "sol = Solution()\n",
    "sol.sortedSquares(nums = [-4,-1,0,3,10])"
   ]
  },
  {
   "cell_type": "code",
   "execution_count": 23,
   "metadata": {},
   "outputs": [],
   "source": [
    "class Solution:\n",
    "    def sortedSquares(self, A):\n",
    "        answer = [0] * len(A)\n",
    "        l, r = 0, len(A) - 1\n",
    "        while l <= r:\n",
    "            left, right = abs(A[l]), abs(A[r])\n",
    "            if left > right:\n",
    "                answer[r - l] = left * left\n",
    "                l += 1\n",
    "            else:\n",
    "                answer[r - l] = right * right\n",
    "                r -= 1\n",
    "        return answer"
   ]
  },
  {
   "cell_type": "code",
   "execution_count": 25,
   "metadata": {},
   "outputs": [
    {
     "data": {
      "text/plain": [
       "[0, 1, 9, 16, 100]"
      ]
     },
     "execution_count": 25,
     "metadata": {},
     "output_type": "execute_result"
    }
   ],
   "source": [
    "sol = Solution()\n",
    "sol.sortedSquares(A = [-4,-1,0,3,10])"
   ]
  },
  {
   "cell_type": "code",
   "execution_count": 26,
   "metadata": {},
   "outputs": [],
   "source": [
    "class Solution:\n",
    "    def sortedSquares(self, nums: List[int]) -> List[int]:\n",
    "        n = len(nums)\n",
    "        result = [0] * n\n",
    "        left = 0\n",
    "        right = n - 1\n",
    "        for i in range(n - 1, -1, -1):\n",
    "            if abs(nums[left]) < abs(nums[right]):\n",
    "                square = nums[right]\n",
    "                right -= 1\n",
    "            else:\n",
    "                square = nums[left]\n",
    "                left += 1\n",
    "            result[i] = square * square\n",
    "        return result"
   ]
  },
  {
   "cell_type": "code",
   "execution_count": 28,
   "metadata": {},
   "outputs": [
    {
     "data": {
      "text/plain": [
       "[0, 1, 9, 16, 100]"
      ]
     },
     "execution_count": 28,
     "metadata": {},
     "output_type": "execute_result"
    }
   ],
   "source": [
    "sol = Solution()\n",
    "sol.sortedSquares(nums = [-4,-1,0,3,10])"
   ]
  }
 ],
 "metadata": {
  "interpreter": {
   "hash": "b6fecb9821137fb1eeea2161f49225dfc2219e02bf5341a9f2c882710ff7fd7e"
  },
  "kernelspec": {
   "display_name": "Python 3.10.2 64-bit",
   "language": "python",
   "name": "python3"
  },
  "language_info": {
   "codemirror_mode": {
    "name": "ipython",
    "version": 3
   },
   "file_extension": ".py",
   "mimetype": "text/x-python",
   "name": "python",
   "nbconvert_exporter": "python",
   "pygments_lexer": "ipython3",
   "version": "3.10.2"
  },
  "orig_nbformat": 4
 },
 "nbformat": 4,
 "nbformat_minor": 2
}
