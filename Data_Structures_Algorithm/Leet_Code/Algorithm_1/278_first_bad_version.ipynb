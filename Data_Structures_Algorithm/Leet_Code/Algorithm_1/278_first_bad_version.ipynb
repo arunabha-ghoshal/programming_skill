{
 "cells": [
  {
   "cell_type": "code",
   "execution_count": null,
   "metadata": {},
   "outputs": [],
   "source": [
    "from typing import *\n",
    "\n",
    "# The isBadVersion API is already defined for you.\n",
    "# def isBadVersion(version: int) -> bool:\n",
    "\n",
    "class Solution:\n",
    "    def firstBadVersion(self, n: int) -> int:\n",
    "        beg = 0\n",
    "        end = n\n",
    "        mid = (end - beg ) // 2\n",
    "        if isBadVersion(mid):\n",
    "            if not isBasVersion(mid-1):\n",
    "                return mid\n",
    "        "
   ]
  }
 ],
 "metadata": {
  "language_info": {
   "name": "python"
  },
  "orig_nbformat": 4
 },
 "nbformat": 4,
 "nbformat_minor": 2
}
